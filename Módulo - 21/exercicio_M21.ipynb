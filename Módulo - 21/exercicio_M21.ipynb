{
 "cells": [
  {
   "cell_type": "markdown",
   "metadata": {
    "id": "KJqp9AANOCtf"
   },
   "source": [
    "<img src=\"https://raw.githubusercontent.com/andre-marcos-perez/ebac-course-utils/main/media/logo/newebac_logo_black_half.png\" alt=\"ebac-logo\">\n",
    "\n",
    "---\n",
    "\n",
    "# **Módulo** | Análise de Dados: Fundamentos de Estatística\n",
    "Caderno de **Exercícios**<br> \n",
    "Professor [André Perez](https://www.linkedin.com/in/andremarcosperez/)\n",
    "\n",
    "---"
   ]
  },
  {
   "cell_type": "markdown",
   "metadata": {
    "id": "d9jDtUbDOE1-"
   },
   "source": [
    "# **Tópicos**\n",
    "\n",
    "<ol type=\"1\">\n",
    "  <li>Média e Variância;</li>\n",
    "  <li>Ordem e Posição;</li>\n",
    "  <li>Correlação.</li>\n",
    "</ol>"
   ]
  },
  {
   "cell_type": "markdown",
   "metadata": {
    "id": "SmoHgt-lwkpD"
   },
   "source": [
    "---"
   ]
  },
  {
   "cell_type": "markdown",
   "metadata": {
    "id": "GABI6OW8OfQ2"
   },
   "source": [
    "# **Exercícios**"
   ]
  },
  {
   "cell_type": "markdown",
   "metadata": {
    "id": "kzRDceCvkFj2"
   },
   "source": [
    "## 1\\. Tráfego de São Paulo"
   ]
  },
  {
   "cell_type": "markdown",
   "metadata": {
    "id": "WCQi-s0Hpd5V"
   },
   "source": [
    "Neste exercício, vamos continuar a analisar os dados de mobilidade urbana da cidade de São Paulo. A base de dados está neste [link](https://raw.githubusercontent.com/andre-marcos-perez/ebac-course-utils/develop/dataset/traffic.csv) e é uma copia do dado original, presente neste [link](https://archive.ics.uci.edu/ml/datasets/Behavior+of+the+urban+traffic+of+the+city+of+Sao+Paulo+in+Brazil). A base de dados contem a quantidade de acidentes ocorridos na cidade entre 14/12/09 e 18/12/09, das 07:00h ás 20:00h, agregados em intervalos de 30 minutos."
   ]
  },
  {
   "cell_type": "code",
   "execution_count": 25,
   "metadata": {},
   "outputs": [],
   "source": [
    "import pandas as pd\n",
    "import numpy as np\n",
    "import requests\n",
    "from requests.exceptions import HTTPError, RequestException\n",
    "import seaborn as sns\n",
    "import matplotlib.pyplot as plt"
   ]
  },
  {
   "cell_type": "code",
   "execution_count": 2,
   "metadata": {
    "id": "znk9Z9TLgTGP"
   },
   "outputs": [],
   "source": [
    "URL = 'https://raw.githubusercontent.com/andre-marcos-perez/ebac-course-utils/develop/dataset/traffic.csv'\n",
    "nome_arquivo = 'traffic.csv'\n",
    "\n",
    "try:\n",
    "    respota = requests.get(URL)\n",
    "    respota.raise_for_status()\n",
    "\n",
    "    with open(nome_arquivo, 'wb',) as arquivo:\n",
    "        arquivo.write(respota.content)\n",
    "\n",
    "except HTTPError as err_http:\n",
    "    print(f'Erro de HTTP: {err_http}')\n",
    "\n",
    "except ConnectionError as err_con:\n",
    "    print(f'Erro de conexão: {err_con}')\n",
    "\n",
    "except TimeoutError as err_timeout:\n",
    "    print(f'Tempo de resposta excedido: {err_timeout}')\n",
    "\n",
    "except RequestException as err_req:\n",
    "    print(f'Erro na requisição: {err_req}')\n",
    "\n",
    "except Exception as exc:\n",
    "    print(f'Ocorreu um erro inesperado: {exc}')\n",
    "    "
   ]
  },
  {
   "cell_type": "code",
   "execution_count": 3,
   "metadata": {},
   "outputs": [],
   "source": [
    "df = pd.read_csv(nome_arquivo, sep=';')"
   ]
  },
  {
   "cell_type": "markdown",
   "metadata": {
    "id": "eMG4JHaugQbV"
   },
   "source": [
    "- **Exemplo**: (para relembrar)"
   ]
  },
  {
   "cell_type": "markdown",
   "metadata": {
    "id": "WGcei39Pwc9u"
   },
   "source": [
    "O código abaixo extrai a 13ª linha do arquivo que representa a 14ª meia hora do dia 14/12/09, contadas a partir das 07:00h, ou seja, todos os incidentes ocorridos na cidade no dia em questão entre as 13:30h e 14:00h. Vemos, por exemplo, que dois ônibus e dois caminhões ficaram paradados nas ruas da cidade, atrapalhando o tráfego."
   ]
  },
  {
   "cell_type": "code",
   "execution_count": 4,
   "metadata": {
    "id": "rVUKA_RkiFeg"
   },
   "outputs": [
    {
     "data": {
      "text/html": [
       "<div>\n",
       "<style scoped>\n",
       "    .dataframe tbody tr th:only-of-type {\n",
       "        vertical-align: middle;\n",
       "    }\n",
       "\n",
       "    .dataframe tbody tr th {\n",
       "        vertical-align: top;\n",
       "    }\n",
       "\n",
       "    .dataframe thead th {\n",
       "        text-align: right;\n",
       "    }\n",
       "</style>\n",
       "<table border=\"1\" class=\"dataframe\">\n",
       "  <thead>\n",
       "    <tr style=\"text-align: right;\">\n",
       "      <th></th>\n",
       "      <th>hour</th>\n",
       "      <th>bus_stoped</th>\n",
       "      <th>broken_truck</th>\n",
       "      <th>vehicle_excess</th>\n",
       "      <th>accident_victim</th>\n",
       "      <th>running_over</th>\n",
       "      <th>fire_vehicles</th>\n",
       "      <th>occurrence_freight</th>\n",
       "      <th>incident__dangerous_freight</th>\n",
       "      <th>lack_electricity</th>\n",
       "      <th>fire</th>\n",
       "      <th>flooding</th>\n",
       "      <th>manifestations</th>\n",
       "      <th>defect_trolleybuses</th>\n",
       "      <th>tree_road</th>\n",
       "      <th>semaphore_off</th>\n",
       "      <th>intermittent_emaphore</th>\n",
       "      <th>slowness_traffic_%</th>\n",
       "    </tr>\n",
       "  </thead>\n",
       "  <tbody>\n",
       "    <tr>\n",
       "      <th>13</th>\n",
       "      <td>14</td>\n",
       "      <td>2</td>\n",
       "      <td>2</td>\n",
       "      <td>0</td>\n",
       "      <td>1</td>\n",
       "      <td>0</td>\n",
       "      <td>0</td>\n",
       "      <td>0</td>\n",
       "      <td>0</td>\n",
       "      <td>0</td>\n",
       "      <td>0</td>\n",
       "      <td>0</td>\n",
       "      <td>0</td>\n",
       "      <td>0</td>\n",
       "      <td>0</td>\n",
       "      <td>0</td>\n",
       "      <td>0</td>\n",
       "      <td>4,9</td>\n",
       "    </tr>\n",
       "  </tbody>\n",
       "</table>\n",
       "</div>"
      ],
      "text/plain": [
       "    hour  bus_stoped  broken_truck  vehicle_excess  accident_victim  \\\n",
       "13    14           2             2               0                1   \n",
       "\n",
       "    running_over  fire_vehicles  occurrence_freight  \\\n",
       "13             0              0                   0   \n",
       "\n",
       "    incident__dangerous_freight  lack_electricity  fire  flooding  \\\n",
       "13                            0                 0     0         0   \n",
       "\n",
       "    manifestations  defect_trolleybuses  tree_road  semaphore_off  \\\n",
       "13               0                    0          0              0   \n",
       "\n",
       "    intermittent_emaphore slowness_traffic_%  \n",
       "13                      0                4,9  "
      ]
     },
     "execution_count": 4,
     "metadata": {},
     "output_type": "execute_result"
    }
   ],
   "source": [
    "df.iloc[[13]]"
   ]
  },
  {
   "cell_type": "markdown",
   "metadata": {
    "id": "HrTLgE0tki6P"
   },
   "source": [
    "### **1.1. Agregação** "
   ]
  },
  {
   "cell_type": "markdown",
   "metadata": {
    "id": "7tIjNOs8q6aZ"
   },
   "source": [
    "Neste primeira atividade, você deve gerar um array NumPy por dia. Para cada array você deve somar todos os incidentes que aconteceram naquela meia hora. Sendo assim, cada array deve ter 27 posições, cada qual com a soma dos incidentes daquela meira hora."
   ]
  },
  {
   "cell_type": "markdown",
   "metadata": {
    "id": "fKzfMXTO280n"
   },
   "source": [
    "**Dica**: Você deve remover a primeira e a última coluna."
   ]
  },
  {
   "cell_type": "markdown",
   "metadata": {
    "id": "KEUTG1OIs0VN"
   },
   "source": [
    "**Dica**: Os arrays devem ter os seguintes valores:\n",
    "\n",
    "```python\n",
    "14: [0, 0, 0, 0, 0, 0, 0, 0, 0, 0, 0, 1, 0, 5, 2, 0, 0, 0, 0, 0, 1, 0, 0, 0, 2, 2, 3]\n",
    "15: [3, 0, 0, 0, 2, 4, 2, 1, 3, 0, 2, 0, 2, 3, 2, 2, 4, 7, 6, 3, 0, 1, 1, 5, 4, 6, 0]\n",
    "16: [1, 1, 2, 4, 4, 5, 3, 2, 4, 2, 1, 1, 3, 6, 2, 0, 2, 8, 4, 6, 4, 1, 2, 7, 15, 4, 0]\n",
    "17: [4, 1, 1, 0, 0, 0, 2, 3, 2, 7, 2, 1, 7, 3, 6, 4, 3, 2, 2, 3, 2, 5, 2, 0, 1, 4, 15]\n",
    "18: [10, 1, 1, 5, 5, 7, 3, 4, 3, 1, 2, 3, 2, 2, 6, 2, 2, 4, 2, 3, 0, 3, 3, 2, 3, 6, 0]\n",
    "```"
   ]
  },
  {
   "cell_type": "code",
   "execution_count": 5,
   "metadata": {
    "id": "IwTTh4VKkdKN"
   },
   "outputs": [
    {
     "name": "stdout",
     "output_type": "stream",
     "text": [
      "14: [0 0 0 0 0 0 0 0 0 0 0 1 0 5 2 0 0 0 0 0 1 0 0 0 2 2 3]\n",
      "15: [3 0 0 0 2 4 2 1 3 0 2 0 2 3 2 2 4 7 6 3 0 1 1 5 4 6 0]\n",
      "16: [ 1  1  2  4  4  5  3  2  4  2  1  1  3  6  2  0  2  8  4  6  4  1  2  7\n",
      " 15  4  0]\n",
      "17: [ 4  1  1  0  0  0  2  3  2  7  2  1  7  3  6  4  3  2  2  3  2  5  2  0\n",
      "  1  4 15]\n",
      "18: [10  1  1  5  5  7  3  4  3  1  2  3  2  2  6  2  2  4  2  3  0  3  3  2\n",
      "  3  6  0]\n"
     ]
    }
   ],
   "source": [
    "# resposta da questão 1.1\n",
    "\n",
    "data =  None\n",
    "\n",
    "try:\n",
    "    with open(nome_arquivo, mode='r', encoding='utf8') as fp:\n",
    "        fp.readline() # Ignorar o cabeçalho\n",
    "        data = fp.read()\n",
    "\n",
    "except FileNotFoundError:\n",
    "    print(f'Erro: O arquivo \"{nome_arquivo}\" não foi encontrado.')\n",
    "    exit()\n",
    "\n",
    "except Exception as exc:\n",
    "    print(f'Erro ao ler o arquivo {exc}')\n",
    "    exit()\n",
    "\n",
    "incidentes_dia = dict()\n",
    "incidentes_30min = list()\n",
    "incidentes = None\n",
    "dia = 14 # Dia Inicial\n",
    "\n",
    "# Processar as linhas do arquivo.\n",
    "for linha in data.split('\\n'):\n",
    "    if not linha.strip(): # Ignorando linhas vazias.\n",
    "        continue\n",
    "    \n",
    "    # Somar os incidentes (Ignorando a primeira e a última coluna)\n",
    "    linha_lista = linha.split(';')\n",
    "    try:\n",
    "        incidentes = sum(map(int, linha_lista[1:-1]))\n",
    "        incidentes_30min.append(incidentes)\n",
    "\n",
    "        # Se a primeira coluna for o '27', indica o fim do dia.\n",
    "        if linha_lista[0] == '27':\n",
    "            incidentes_dia[dia] = np.array(incidentes_30min)\n",
    "            dia += 1\n",
    "            incidentes_30min.clear() # Limpa a lista para o próximo dia.\n",
    "    \n",
    "    except ValueError as err_value:\n",
    "        print(f'Erro ao processar a linha: {linha}. Detalhes: {err_value}')\n",
    "        continue\n",
    "\n",
    "# Exibir os incidentes por dia.\n",
    "for dia, incidentes in incidentes_dia.items():\n",
    "    print(f'{dia}: {incidentes}')\n"
   ]
  },
  {
   "cell_type": "markdown",
   "metadata": {
    "id": "TTh7w8rgkznY"
   },
   "source": [
    "### **1.2. Métricas** "
   ]
  },
  {
   "cell_type": "markdown",
   "metadata": {
    "id": "clBerimQs2PY"
   },
   "source": [
    "Para cada array você deve calcular as seguintes métricas: \n",
    "\n",
    " - **média**;\n",
    " - **desvio padrão**."
   ]
  },
  {
   "cell_type": "code",
   "execution_count": 24,
   "metadata": {
    "id": "fohdVuLzkdKP"
   },
   "outputs": [
    {
     "name": "stdout",
     "output_type": "stream",
     "text": [
      "Dia 14 ->    Média: 0.59     Desvio Padrão: 1.19\n",
      "Dia 15 ->    Média: 2.33     Desvio Padrão: 2.02\n",
      "Dia 16 ->    Média: 3.48     Desvio Padrão: 3.05\n",
      "Dia 17 ->    Média: 3.04     Desvio Padrão: 3.05\n",
      "Dia 18 ->    Média: 3.15     Desvio Padrão: 2.19\n"
     ]
    }
   ],
   "source": [
    "# resposta da questão 1.2\n",
    "\n",
    "metricas_incidentes = dict()\n",
    "\n",
    "for dia, incidentes in incidentes_dia.items():\n",
    "    media = np.mean(incidentes)\n",
    "    desvio_padrao = np.std(incidentes)\n",
    "    metricas_incidentes[dia] = {\n",
    "        'média': media,\n",
    "        'desvio padrão': desvio_padrao,                       \n",
    "        }\n",
    "\n",
    "for dia, metricas in metricas_incidentes.items():\n",
    "    print(f'Dia {dia} ->    Média: {metricas['média']:.2f}     Desvio Padrão: {metricas['desvio padrão']:.2f}')"
   ]
  },
  {
   "cell_type": "markdown",
   "metadata": {},
   "source": [
    "### **1.3. Interpretação** "
   ]
  },
  {
   "cell_type": "markdown",
   "metadata": {},
   "source": [
    "Baseado nos resultados da questão 1.2, responda:"
   ]
  },
  {
   "cell_type": "markdown",
   "metadata": {},
   "source": [
    "> Qual dia apresenta a maior média de acidentes por meia hora?"
   ]
  },
  {
   "cell_type": "markdown",
   "metadata": {},
   "source": [
    "**Resposta:** Dia 16"
   ]
  },
  {
   "cell_type": "markdown",
   "metadata": {},
   "source": [
    "> Qual dia apresenta a menor variação de acidentes por meia hora?"
   ]
  },
  {
   "cell_type": "markdown",
   "metadata": {},
   "source": [
    "**Resposta:** Dia 14"
   ]
  }
 ],
 "metadata": {
  "colab": {
   "collapsed_sections": [],
   "name": "modulo_22_exercicio.ipynb",
   "provenance": []
  },
  "kernelspec": {
   "display_name": "Python 3",
   "name": "python3"
  },
  "language_info": {
   "codemirror_mode": {
    "name": "ipython",
    "version": 3
   },
   "file_extension": ".py",
   "mimetype": "text/x-python",
   "name": "python",
   "nbconvert_exporter": "python",
   "pygments_lexer": "ipython3",
   "version": "3.12.7"
  }
 },
 "nbformat": 4,
 "nbformat_minor": 0
}
