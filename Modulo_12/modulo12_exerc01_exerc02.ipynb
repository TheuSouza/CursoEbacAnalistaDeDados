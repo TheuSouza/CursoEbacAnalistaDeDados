{
 "cells": [
  {
   "cell_type": "code",
   "execution_count": 5,
   "metadata": {},
   "outputs": [],
   "source": [
    "from bs4 import BeautifulSoup\n",
    "import csv"
   ]
  },
  {
   "cell_type": "code",
   "execution_count": 12,
   "metadata": {},
   "outputs": [],
   "source": [
    "conteudo = list()\n",
    "pagina  = BeautifulSoup(open('fortune.html', mode='r'), 'html.parser')"
   ]
  },
  {
   "cell_type": "code",
   "execution_count": 13,
   "metadata": {},
   "outputs": [],
   "source": [
    "linhas = pagina.find_all('div', class_ = 'rt-tr-group')\n",
    "\n",
    "for linha in linhas:\n",
    "    colunas = linha.get_text(';').split(';')\n",
    "    conteudo.append(colunas)"
   ]
  },
  {
   "cell_type": "code",
   "execution_count": 14,
   "metadata": {},
   "outputs": [],
   "source": [
    "header = [\n",
    "  'rank', \n",
    "  'name', \n",
    "  'revenues', \n",
    "  'revenues-percent-change', \n",
    "  'profits', \n",
    "  'profits-percent-change', \n",
    "  'assets', \n",
    "  'market-value',\n",
    "  'employees'\n",
    "]"
   ]
  },
  {
   "cell_type": "code",
   "execution_count": 15,
   "metadata": {},
   "outputs": [],
   "source": [
    "with open(file='./fortune.csv', mode='w', encoding='utf-8') as arquivo:\n",
    "    arquivo_csv = csv.writer(arquivo, delimiter=';')\n",
    "    arquivo_csv.writerows([header] + list(map(lambda linha: linha, conteudo)))"
   ]
  },
  {
   "cell_type": "code",
   "execution_count": 3,
   "metadata": {},
   "outputs": [],
   "source": [
    "import pandas as pd \n",
    "\n",
    "fortune_df = pd.read_csv('fortune.csv', sep=';')"
   ]
  },
  {
   "cell_type": "code",
   "execution_count": 17,
   "metadata": {},
   "outputs": [],
   "source": [
    "#Criei uma lista com os nomes das colunas para a linha da função lambda não ficar muito longa... \n",
    "colunas_float = ['revenues', 'profits', 'assets', 'market-value', 'employees']\n",
    "colunas_percent = ['revenues-percent-change', 'profits-percent-change']"
   ]
  },
  {
   "cell_type": "code",
   "execution_count": 18,
   "metadata": {},
   "outputs": [],
   "source": [
    "#Substitui alguns valores das linhas que tinham '-' por 0 para conseguir trasformar os valores em Float64...\n",
    "fortune_df.replace('-', 0, inplace=True)"
   ]
  },
  {
   "cell_type": "code",
   "execution_count": 19,
   "metadata": {},
   "outputs": [],
   "source": [
    "#Fiz a substituição dos símbolos por '' e das , por '' e por fim trasformei em Float64...\n",
    "fortune_df[colunas_float] = fortune_df[colunas_float].apply(lambda valor: valor.str.replace('$', '').str.replace(',','').astype(float))\n",
    "fortune_df[colunas_percent] = fortune_df[colunas_percent].apply(lambda valor: valor.str.replace('%', ''))"
   ]
  },
  {
   "cell_type": "code",
   "execution_count": 20,
   "metadata": {},
   "outputs": [
    {
     "name": "stdout",
     "output_type": "stream",
     "text": [
      "   rank                name  revenues  revenues-percent-change  profits  \\\n",
      "0     1             Walmart  559151.0                      6.7  13510.0   \n",
      "1     2              Amazon  386064.0                     37.6  21331.0   \n",
      "2     3               Apple  274515.0                      5.5  57411.0   \n",
      "3     4          CVS Health  268706.0                      4.6   7179.0   \n",
      "4     5  UnitedHealth Group  257141.0                      6.2  15403.0   \n",
      "\n",
      "   profits-percent-change    assets  market-value  employees  \n",
      "0                    -9.2  252496.0      382642.8  2300000.0  \n",
      "1                    84.1  321195.0     1558069.6  1298000.0  \n",
      "2                     3.9  323888.0     2050665.9   147000.0  \n",
      "3                     8.2  230715.0       98653.2   256500.0  \n",
      "4                    11.3  197289.0      351725.0   330000.0  \n",
      "<class 'pandas.core.frame.DataFrame'>\n",
      "RangeIndex: 100 entries, 0 to 99\n",
      "Data columns (total 9 columns):\n",
      " #   Column                   Non-Null Count  Dtype  \n",
      "---  ------                   --------------  -----  \n",
      " 0   rank                     100 non-null    int64  \n",
      " 1   name                     100 non-null    object \n",
      " 2   revenues                 100 non-null    float64\n",
      " 3   revenues-percent-change  100 non-null    float64\n",
      " 4   profits                  100 non-null    float64\n",
      " 5   profits-percent-change   96 non-null     float64\n",
      " 6   assets                   100 non-null    float64\n",
      " 7   market-value             92 non-null     float64\n",
      " 8   employees                100 non-null    float64\n",
      "dtypes: float64(7), int64(1), object(1)\n",
      "memory usage: 7.2+ KB\n",
      "None\n"
     ]
    }
   ],
   "source": [
    "fortune_df.to_csv('fortune-limpo.csv', index=False, sep=';')\n",
    "\n",
    "#Rodando o código você pode abrir o novo arquivo .csv e verificar que todos os valores estão com seus valores no formato correto...\n",
    "data_df = pd.read_csv('fortune-limpo.csv', sep=';')\n",
    "print(data_df.head())\n",
    "print(data_df.info())"
   ]
  }
 ],
 "metadata": {
  "kernelspec": {
   "display_name": "Python 3",
   "language": "python",
   "name": "python3"
  },
  "language_info": {
   "codemirror_mode": {
    "name": "ipython",
    "version": 3
   },
   "file_extension": ".py",
   "mimetype": "text/x-python",
   "name": "python",
   "nbconvert_exporter": "python",
   "pygments_lexer": "ipython3",
   "version": "3.12.1"
  }
 },
 "nbformat": 4,
 "nbformat_minor": 2
}
