{
 "cells": [
  {
   "cell_type": "code",
   "execution_count": 2,
   "metadata": {},
   "outputs": [
    {
     "name": "stdout",
     "output_type": "stream",
     "text": [
      "    sepal_length  sepal_width  petal_length  petal_width species  cluster\n",
      "0            5.1          3.5           1.4          0.2  setosa        1\n",
      "1            4.9          3.0           1.4          0.2  setosa        2\n",
      "2            4.7          3.2           1.3          0.2  setosa        2\n",
      "3            4.6          3.1           1.5          0.2  setosa        2\n",
      "4            5.0          3.6           1.4          0.2  setosa        1\n",
      "5            5.4          3.9           1.7          0.4  setosa        1\n",
      "6            4.6          3.4           1.4          0.3  setosa        1\n",
      "7            5.0          3.4           1.5          0.2  setosa        1\n",
      "8            4.4          2.9           1.4          0.2  setosa        2\n",
      "9            4.9          3.1           1.5          0.1  setosa        2\n",
      "10           5.4          3.7           1.5          0.2  setosa        1\n",
      "11           4.8          3.4           1.6          0.2  setosa        1\n",
      "12           4.8          3.0           1.4          0.1  setosa        2\n",
      "13           4.3          3.0           1.1          0.1  setosa        2\n",
      "14           5.8          4.0           1.2          0.2  setosa        1\n"
     ]
    }
   ],
   "source": [
    "from sklearn.cluster import KMeans\n",
    "from sklearn.preprocessing import StandardScaler\n",
    "import seaborn as sns\n",
    "\n",
    "# Carregar o dataframe iris sem a coluna species\n",
    "iris = sns.load_dataset('iris')\n",
    "iris_data = iris.drop(columns=['species'])\n",
    "\n",
    "# Padronizar os dados\n",
    "scaler = StandardScaler()\n",
    "iris_scaled = scaler.fit_transform(iris_data)\n",
    "\n",
    "# Aplicar o KMeans\n",
    "kmeans = KMeans(n_clusters=3, random_state=42)\n",
    "kmeans.fit(iris_scaled)\n",
    "\n",
    "# Adicionar os clusters ao dataframe original\n",
    "iris['cluster'] = kmeans.labels_\n",
    "\n",
    "# Exibir os resultados\n",
    "print(iris.head(15))\n"
   ]
  }
 ],
 "metadata": {
  "kernelspec": {
   "display_name": "Python 3",
   "language": "python",
   "name": "python3"
  },
  "language_info": {
   "codemirror_mode": {
    "name": "ipython",
    "version": 3
   },
   "file_extension": ".py",
   "mimetype": "text/x-python",
   "name": "python",
   "nbconvert_exporter": "python",
   "pygments_lexer": "ipython3",
   "version": "3.12.7"
  }
 },
 "nbformat": 4,
 "nbformat_minor": 2
}
