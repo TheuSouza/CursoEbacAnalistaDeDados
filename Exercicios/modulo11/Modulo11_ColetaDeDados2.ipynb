{
 "cells": [
  {
   "cell_type": "code",
   "execution_count": 2,
   "metadata": {},
   "outputs": [],
   "source": [
    "import requests\n",
    "from requests.exceptions import HTTPError\n",
    "\n",
    "robots = None\n",
    "URL = 'https://www.imdb.com/robots.txt'"
   ]
  },
  {
   "cell_type": "code",
   "execution_count": 74,
   "metadata": {},
   "outputs": [],
   "source": [
    "try:\n",
    "    resposta = requests.get(URL)\n",
    "    resposta.raise_for_status()\n",
    "except HTTPError as error:\n",
    "    print(error)\n",
    "else:\n",
    "    robots = resposta.text"
   ]
  },
  {
   "cell_type": "code",
   "execution_count": 46,
   "metadata": {},
   "outputs": [
    {
     "name": "stdout",
     "output_type": "stream",
     "text": [
      "False\n"
     ]
    }
   ],
   "source": [
    "if 'top' in robots or 'charts' in robots:\n",
    "    print('True')\n",
    "else:\n",
    "    print('False')\n"
   ]
  },
  {
   "cell_type": "code",
   "execution_count": 391,
   "metadata": {},
   "outputs": [
    {
     "name": "stdout",
     "output_type": "stream",
     "text": [
      "Página salva com sucesso!\n"
     ]
    }
   ],
   "source": [
    "conteudo = None\n",
    "URL2 = 'https://www.imdb.com/chart/top/'\n",
    "\n",
    "# Estava apresentando um Error 403... então foi necessário cria esse 'User-Agent', assim o site me permitiu acessar o contéudo...\n",
    "headers = {\n",
    "    'User-Agent': 'Mozilla/5.0 (Windows NT 10.0; Win64; x64) AppleWebKit/537.36 (KHTML, like Gecko) Chrome/58.0.3029.110 Safari/537.3'\n",
    "}\n",
    "\n",
    "try:\n",
    "    resposta2 = requests.get(URL2, headers=headers)\n",
    "    resposta2.raise_for_status()\n",
    "    print('Página salva com sucesso!')\n",
    "except HTTPError as error:\n",
    "    print(error)\n",
    "else:\n",
    "    conteudo = resposta2.content"
   ]
  },
  {
   "cell_type": "code",
   "execution_count": 392,
   "metadata": {},
   "outputs": [],
   "source": [
    "from bs4 import BeautifulSoup\n",
    "\n",
    "pagina = BeautifulSoup(conteudo, 'html.parser')"
   ]
  },
  {
   "cell_type": "code",
   "execution_count": 400,
   "metadata": {},
   "outputs": [
    {
     "name": "stdout",
     "output_type": "stream",
     "text": [
      "[['1', 'Um Sonho de Liberdade', '1994', '9.3'], ['2', 'O Poderoso Chefão', '1972', '9.2'], ['3', 'Batman: O Cavaleiro das Trevas', '2008', '9.0'], ['4', 'O Poderoso Chefão II', '1974', '9.0'], ['5', '12 Homens e uma Sentença', '1957', '9.0'], ['6', 'A Lista de Schindler', '1993', '9.0'], ['7', 'O Senhor dos Anéis: O Retorno do Rei', '2003', '9.0'], ['8', 'Pulp Fiction: Tempo de Violência', '1994', '8.9'], ['9', 'O Senhor dos Anéis: A Sociedade do Anel', '2001', '8.9'], ['10', 'Três Homens em Conflito', '1966', '8.8']]\n"
     ]
    }
   ],
   "source": [
    "lista_filmes = pagina.find_all('div', attrs= {'class':'sc-b0691f29-0 jbYPfh cli-children'})\n",
    "conteudo_extraido = list()\n",
    "\n",
    "contador = 0\n",
    "for filme in lista_filmes:\n",
    "    dados = list()\n",
    "\n",
    "    #Contador para parar a execução quando atingir o range de 10 filmes, se deixar sem ele o loop for vai coletar a informação de todos os 250 filmes da lista da IMDb...\n",
    "    contador += 1\n",
    "    if contador > 10:\n",
    "        break\n",
    "    \n",
    "    #Ao fazer o Scraping para pegar o título o Ranking do filme vem junto em uma str, então usei o split para criar uma lista, coloquei cada valor em sua variável...\n",
    "    ranking = filme.a.h3.text.split(sep='.')[0]\n",
    "    titulo = filme.a.h3.text.split(sep='.')[1].strip()\n",
    "\n",
    "    #A class abaixo corresponde ao Ano do filme, .text para pegar somente o ano.\n",
    "    ano = filme.find('span', class_ = 'sc-b0691f29-8 ilsLEX cli-title-metadata-item').text\n",
    "\n",
    "    #A class abaixo vem com a nota e tempo de duração do filme, fiz um split no final da linha de código para pegar somente a nota...\n",
    "    nota = filme.find('span', class_ = 'ipc-rating-star ipc-rating-star--base ipc-rating-star--imdb ratingGroup--imdb-rating').text.split()[0]\n",
    "\n",
    "    dados.append(ranking)\n",
    "    dados.append(titulo)\n",
    "    dados.append(ano)\n",
    "    dados.append(nota)\n",
    "    conteudo_extraido.append(dados)\n",
    "\n",
    "print(conteudo_extraido)"
   ]
  },
  {
   "cell_type": "code",
   "execution_count": 401,
   "metadata": {},
   "outputs": [],
   "source": [
    "import csv\n",
    "\n",
    "with open(file='./imdb.csv', mode='w', encoding='utf-8') as arquivo:\n",
    "    arquivo_csv = csv.writer(arquivo, delimiter=';')\n",
    "    arquivo_csv.writerows([['Ranking', 'Título', 'Ano', 'Nota']] + list(map(lambda lista: lista, conteudo_extraido)))\n",
    "   "
   ]
  }
 ],
 "metadata": {
  "kernelspec": {
   "display_name": "Python 3",
   "language": "python",
   "name": "python3"
  },
  "language_info": {
   "codemirror_mode": {
    "name": "ipython",
    "version": 3
   },
   "file_extension": ".py",
   "mimetype": "text/x-python",
   "name": "python",
   "nbconvert_exporter": "python",
   "pygments_lexer": "ipython3",
   "version": "3.12.1"
  }
 },
 "nbformat": 4,
 "nbformat_minor": 2
}
